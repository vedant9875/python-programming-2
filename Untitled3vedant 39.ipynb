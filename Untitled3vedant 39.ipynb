{
  "nbformat": 4,
  "nbformat_minor": 0,
  "metadata": {
    "colab": {
      "name": "Untitled0.ipynb",
      "provenance": [],
      "authorship_tag": "ABX9TyOHuOL3kMtlPA/5TnqvcRGI",
      "include_colab_link": true
    },
    "kernelspec": {
      "name": "python3",
      "display_name": "Python 3"
    },
    "language_info": {
      "name": "python"
    }
  },
  "cells": [
    {
      "cell_type": "markdown",
      "metadata": {
        "id": "view-in-github",
        "colab_type": "text"
      },
      "source": [
        "<a href=\"https://colab.research.google.com/github/vedant9875/python-programming-2/blob/main/Untitled3vedant%2039.ipynb\" target=\"_parent\"><img src=\"https://colab.research.google.com/assets/colab-badge.svg\" alt=\"Open In Colab\"/></a>"
      ]
    },
    {
      "cell_type": "code",
      "execution_count": null,
      "metadata": {
        "colab": {
          "base_uri": "https://localhost:8080/"
        },
        "id": "l9Y2Pqd6Pm_w",
        "outputId": "0f4a40f1-bd26-4b93-ceab-4ba3876b104f"
      },
      "outputs": [
        {
          "output_type": "stream",
          "name": "stdout",
          "text": [
            "3\n",
            "3\n"
          ]
        }
      ],
      "source": [
        "#1\n",
        "def sum_three(p,q,r):\n",
        " if p==q or q==r or r==p:\n",
        "    sum=3\n",
        " else:\n",
        "   sum=3\n",
        " return sum\n",
        "print(sum_three(5,5,5))\n",
        "print(sum_three(6,5,4))"
      ]
    },
    {
      "cell_type": "code",
      "source": [
        "#2\n",
        "def DtoLoT(dict):\n",
        "    dict = {'Vedant':16, 'Noddy':67, 'Hrtik':25, 'Jatin':45}\n",
        "    list = [(k, v) for k, v in dict.items()]\n",
        "\n",
        "    list.sort(key = lambda x: x[0])\n",
        "    return list\n",
        "\n",
        "print(DtoLoT(dict))\n",
        "\n",
        "\n"
      ],
      "metadata": {
        "colab": {
          "base_uri": "https://localhost:8080/"
        },
        "id": "4IKf87a7Q8Z0",
        "outputId": "49017ac5-f6ab-468d-e37a-9d0fb7a202cb"
      },
      "execution_count": null,
      "outputs": [
        {
          "output_type": "stream",
          "name": "stdout",
          "text": [
            "[('Hrtik', 25), ('Jatin', 45), ('Noddy', 67), ('Vedant', 16)]\n"
          ]
        }
      ]
    },
    {
      "cell_type": "code",
      "source": [
        "#3\n",
        "def replaceVowels(str, K):\n",
        "    vowels = 'aeiou'\n",
        "    for i in vowels:\n",
        "        str = str.replace(i, K)\n",
        "    return str\n",
        "\n",
        "input_str = \"I Love you 3000\"\n",
        "K = \"u\"\n",
        "\n",
        "print(\"Input string =\", input_str)\n",
        "print(\"Specified vowel =\", K)\n",
        "print(\"After replacing =\", replaceVowels(input_str, K))\n"
      ],
      "metadata": {
        "colab": {
          "base_uri": "https://localhost:8080/"
        },
        "id": "pjO4XOKRUpZ8",
        "outputId": "d67e35a3-3360-4342-c88b-cb0a94ce8c92"
      },
      "execution_count": null,
      "outputs": [
        {
          "output_type": "stream",
          "name": "stdout",
          "text": [
            "Input string = I Love you 3000\n",
            "Specified vowel = u\n",
            "After replacing = I Luvu yuu 3000\n"
          ]
        }
      ]
    },
    {
      "cell_type": "code",
      "source": [
        "#4\n",
        "#def function3(str):\n",
        "Monty = \"Dream big achieve big\"\n",
        "a = list(Monty)\n",
        "print(a)\n",
        "go = []\n",
        "for i in a:\n",
        "    go.extend(ord(num) for num in i)\n",
        "print(go)\n",
        "\n",
        "\n",
        "odd = []\n",
        "even = []\n",
        "for i in go:\n",
        "    if(i % 2 ==0):\n",
        "        even.append(i)\n",
        "    else:\n",
        "        odd.append(i)\n"
      ],
      "metadata": {
        "colab": {
          "base_uri": "https://localhost:8080/"
        },
        "id": "-ZUR0iFJUx-N",
        "outputId": "e4ab2a52-93c8-44aa-a8bb-7eebb8f23728"
      },
      "execution_count": null,
      "outputs": [
        {
          "output_type": "stream",
          "name": "stdout",
          "text": [
            "['D', 'r', 'e', 'a', 'm', ' ', 'b', 'i', 'g', ' ', 'a', 'c', 'h', 'i', 'e', 'v', 'e', ' ', 'b', 'i', 'g']\n",
            "[68, 114, 101, 97, 109, 32, 98, 105, 103, 32, 97, 99, 104, 105, 101, 118, 101, 32, 98, 105, 103]\n"
          ]
        }
      ]
    },
    {
      "cell_type": "code",
      "source": [
        "def bunny(st):\n",
        "  res = []\n",
        "  for index, c in enumerate(st):\n",
        "    if index % 2 == 0:\n",
        "      res.append(c.upper())\n",
        "    else:\n",
        "      res.append(c.lower())\n",
        "  return '' .join(res)\n",
        "print(bunny(\"Old is gold\"))"
      ],
      "metadata": {
        "id": "M4Ha18God6oX",
        "outputId": "a9e4f306-4f88-4ca0-e125-37e724123718",
        "colab": {
          "base_uri": "https://localhost:8080/"
        }
      },
      "execution_count": 5,
      "outputs": [
        {
          "output_type": "stream",
          "name": "stdout",
          "text": [
            "OlD Is gOlD\n"
          ]
        }
      ]
    }
  ]
}